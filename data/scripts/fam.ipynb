{
 "cells": [
  {
   "cell_type": "markdown",
   "metadata": {},
   "source": [
    "# Prepare data for the real-time pipeline simulator"
   ]
  },
  {
   "cell_type": "code",
   "execution_count": 2,
   "metadata": {},
   "outputs": [],
   "source": [
    "import pandas as pd\n",
    "import numpy as np\n",
    "from datetime import datetime\n",
    "\n",
    "import os\n",
    "import sys\n",
    "cur_dir = os.path.dirname(os.path.abspath(\"__file__\"))  # Gets the current notebook directory\n",
    "src_dir = os.path.join(cur_dir, '../')  # Constructs the path to the 'src' directory\n",
    "if src_dir not in sys.path:\n",
    "    sys.path.append(src_dir)\n",
    "\n",
    "from tqdm.notebook import tqdm"
   ]
  },
  {
   "cell_type": "code",
   "execution_count": 4,
   "metadata": {},
   "outputs": [],
   "source": [
    "dir = '../data/PandasData/Sampled_state/'\n",
    "\n",
    "files = os.listdir(dir)\n",
    "files.sort()\n",
    "cnt = 0\n",
    "\n",
    "for file in files:\n",
    "    if file.endswith('.pkl'):\n",
    "        df = pd.read_pickle(dir + file)\n",
    "        df = df.dropna()\n",
    "        for agv in df['AGV_name'].unique():\n",
    "            sub_df = df[df['AGV_name'] == agv]\n",
    "            sub_df.to_csv('../data/demo/feature_fam/' + str(cnt) + '.csv', index=False)\n",
    "            cnt += 1\n",
    "            if cnt > 10:\n",
    "                break\n",
    "    if cnt > 10:\n",
    "        break"
   ]
  }
 ],
 "metadata": {
  "kernelspec": {
   "display_name": "base",
   "language": "python",
   "name": "python3"
  },
  "language_info": {
   "codemirror_mode": {
    "name": "ipython",
    "version": 3
   },
   "file_extension": ".py",
   "mimetype": "text/x-python",
   "name": "python",
   "nbconvert_exporter": "python",
   "pygments_lexer": "ipython3",
   "version": "3.10.14"
  }
 },
 "nbformat": 4,
 "nbformat_minor": 2
}
