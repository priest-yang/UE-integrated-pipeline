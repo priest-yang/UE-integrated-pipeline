{
 "cells": [
  {
   "cell_type": "code",
   "execution_count": 2,
   "metadata": {},
   "outputs": [],
   "source": [
    "import torch\n",
    "import torch.nn as nn"
   ]
  },
  {
   "cell_type": "markdown",
   "metadata": {},
   "source": [
    "## Sample code to export ONNX Model"
   ]
  },
  {
   "cell_type": "code",
   "execution_count": null,
   "metadata": {},
   "outputs": [],
   "source": [
    "from src.TemporalFusionTransformer import TemporalFusionTransformer\n",
    "from src.VQVAE import VQVAE\n",
    "from typing import Optional\n",
    "\n",
    "feature_dim = 32\n",
    "future_steps = 40\n",
    "lookback = 30\n",
    "\n",
    "vqvae = VQVAE(input_dim=feature_dim, hidden_dim=512, num_embeddings=128, embedding_dim=128, commitment_cost=0.25)\n",
    "\n",
    "class EnhancedTFT(nn.Module):\n",
    "    def __init__(self, num_features, num_hidden, num_outputs, num_steps, vqvae:VQVAE):\n",
    "        super(EnhancedTFT, self).__init__()\n",
    "        self.vqvae = vqvae\n",
    "        self.tft = TemporalFusionTransformer(num_features + vqvae.encoder.fc2.out_features, num_hidden, num_outputs, num_steps, num_attention_heads=8)\n",
    "        self.num_outputs = num_outputs\n",
    "        self.num_steps = num_steps\n",
    "        \n",
    "    def forward(self, x, mask: Optional[torch.Tensor]=None):\n",
    "        x_recon, vq_loss, perplexity, embedding = self.vqvae(x)\n",
    "        x_enhanced = torch.cat((x, embedding), dim=-1)\n",
    "        return self.tft(x_enhanced, mask), vq_loss, perplexity\n",
    "\n",
    "model = EnhancedTFT(num_features=feature_dim, num_hidden=128, num_outputs=2, num_steps=future_steps, vqvae=vqvae)\n",
    "\n",
    "model.to('cpu')\n",
    "\n",
    "dummy_input = torch.randn(1, lookback, feature_dim)\n",
    "\n",
    "# Export the wrapped model to ONNX format\n",
    "torch.onnx.export(\n",
    "    model,                   # Wrapped model to export\n",
    "    dummy_input,                     # Model input\n",
    "    \"model.onnx\",              # Output file name\n",
    "    export_params=True,              # Store the trained parameter weights inside the model file\n",
    "    opset_version=13,                # Set the ONNX opset version (adjust as needed)\n",
    "    do_constant_folding=True,        # Whether to execute constant folding for optimization\n",
    "    input_names=['input'],           # The model's input names\n",
    "    output_names=['output'],         # The model's output names\n",
    "    dynamic_axes={\n",
    "        'input': {0: 'batch_size'},  # Enable dynamic axes for input\n",
    "        'output': {0: 'batch_size'}  # Enable dynamic axes for output\n",
    "    }\n",
    ")\n"
   ]
  },
  {
   "cell_type": "code",
   "execution_count": 11,
   "metadata": {},
   "outputs": [
    {
     "data": {
      "text/plain": [
       "torch.Size([1, 40, 2])"
      ]
     },
     "execution_count": 11,
     "metadata": {},
     "output_type": "execute_result"
    }
   ],
   "source": [
    "model(dummy_input).shape"
   ]
  },
  {
   "cell_type": "code",
   "execution_count": null,
   "metadata": {},
   "outputs": [],
   "source": []
  },
  {
   "cell_type": "code",
   "execution_count": null,
   "metadata": {},
   "outputs": [],
   "source": []
  }
 ],
 "metadata": {
  "kernelspec": {
   "display_name": "pytorch",
   "language": "python",
   "name": "python3"
  },
  "language_info": {
   "codemirror_mode": {
    "name": "ipython",
    "version": 3
   },
   "file_extension": ".py",
   "mimetype": "text/x-python",
   "name": "python",
   "nbconvert_exporter": "python",
   "pygments_lexer": "ipython3",
   "version": "3.11.5"
  }
 },
 "nbformat": 4,
 "nbformat_minor": 2
}
