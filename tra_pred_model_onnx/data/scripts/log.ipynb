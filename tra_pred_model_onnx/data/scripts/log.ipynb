{
 "cells": [
  {
   "cell_type": "code",
   "execution_count": 1,
   "metadata": {},
   "outputs": [],
   "source": [
    "import pandas as pd\n",
    "import numpy as np\n",
    "\n",
    "import os\n",
    "import sys\n",
    "cur_dir = os.path.dirname(os.path.abspath(\"__file__\"))  # Gets the current notebook directory\n",
    "src_dir = os.path.join(cur_dir, '../')  # Constructs the path to the 'src' directory\n",
    "# Add the 'src' directory to sys.path\n",
    "if src_dir not in sys.path:\n",
    "    sys.path.append(src_dir)"
   ]
  },
  {
   "cell_type": "code",
   "execution_count": 6,
   "metadata": {},
   "outputs": [],
   "source": [
    "data = pd.read_csv('../demo/feature_model/0.csv')"
   ]
  },
  {
   "cell_type": "code",
   "execution_count": 11,
   "metadata": {},
   "outputs": [],
   "source": [
    "import pandas as pd\n",
    "import time\n",
    "import os\n",
    "\n",
    "def save_logs(data: pd.DataFrame, output_dir: str, delay: float, selected_columns: list = ['User_X', 'User_Y']):\n",
    "    \"\"\"\n",
    "    Save each row from data[['User_X', 'User_Y']] as a separate CSV log file.\n",
    "    Each file will contain two rows: column names and the respective values for that row.\n",
    "    \n",
    "    Parameters:\n",
    "    data (pd.DataFrame): The DataFrame containing 'User_X' and 'User_Y' columns.\n",
    "    output_dir (str): The directory where log files will be saved.\n",
    "    delay (float): Delay between writing each log file (in seconds).\n",
    "    \"\"\"\n",
    "    # Ensure the output directory exists\n",
    "    os.makedirs(output_dir, exist_ok=True)\n",
    "\n",
    "    # Iterate over the rows of the DataFrame\n",
    "    for idx, row in data[selected_columns].iterrows():\n",
    "        # Define the log file name based on the row index\n",
    "        log_filename = os.path.join(output_dir, f\"log_{idx}.csv\")\n",
    "\n",
    "        # Create a DataFrame for the current row with the column names and values\n",
    "        row_df = pd.DataFrame([row], columns=row.index)\n",
    "        \n",
    "        # Write the row to a CSV file\n",
    "        row_df.to_csv(log_filename, index=False)\n",
    "\n",
    "        # Wait for the specified delay before proceeding to the next file\n",
    "        time.sleep(delay)\n",
    "\n",
    "# Example usage:\n",
    "# save_logs(data, \"logs\", 1.0)  # This will save logs in the 'logs' directory with a 1 second delay between each\n"
   ]
  },
  {
   "cell_type": "code",
   "execution_count": null,
   "metadata": {},
   "outputs": [],
   "source": [
    "save_logs(data, \"logs\", 1.0)  # This will save logs in the 'logs' directory with a 1 second delay between each"
   ]
  }
 ],
 "metadata": {
  "kernelspec": {
   "display_name": "pytorch",
   "language": "python",
   "name": "python3"
  },
  "language_info": {
   "codemirror_mode": {
    "name": "ipython",
    "version": 3
   },
   "file_extension": ".py",
   "mimetype": "text/x-python",
   "name": "python",
   "nbconvert_exporter": "python",
   "pygments_lexer": "ipython3",
   "version": "3.11.5"
  }
 },
 "nbformat": 4,
 "nbformat_minor": 2
}
