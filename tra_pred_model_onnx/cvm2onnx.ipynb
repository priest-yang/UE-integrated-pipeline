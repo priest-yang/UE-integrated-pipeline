{
 "cells": [
  {
   "cell_type": "code",
   "execution_count": 1,
   "metadata": {},
   "outputs": [],
   "source": [
    "import torch\n",
    "import torch.nn as nn"
   ]
  },
  {
   "cell_type": "code",
   "execution_count": 2,
   "metadata": {},
   "outputs": [],
   "source": [
    "class ConstantVelocityModel(nn.Module):\n",
    "    def __init__(self, frame_rate : int = 10):\n",
    "        super(ConstantVelocityModel, self).__init__()\n",
    "        self.FRAME_RATE = frame_rate\n",
    "\n",
    "    def forward(self, x, n_past_frames = 30, n_future_frames = 20):\n",
    "        # Calculate the mean velocity\n",
    "        # x shape: [batch_size, n_frames, n_features]\n",
    "        # Using the first two features which are X and Y positions\n",
    "        velocities = (x[:, 1:n_past_frames, :2] - x[:, :n_past_frames-1, :2]) * self.FRAME_RATE  # Multiply by frame rate to get velocity\n",
    "        mean_velocity = torch.mean(velocities, dim=1, keepdim=True)\n",
    "\n",
    "        # Predict future positions\n",
    "        initial_positions = x[:, n_past_frames-1, :2].unsqueeze(1)\n",
    "        time_steps = torch.arange(1, n_future_frames+1, device=x.device).view(1, -1, 1)\n",
    "        predictions = initial_positions + mean_velocity * time_steps / self.FRAME_RATE  # Divide by frame rate\n",
    "\n",
    "        return predictions\n",
    "    \n",
    "model = ConstantVelocityModel()\n",
    "model.to('cpu')\n",
    "\n",
    "dummy_input = torch.randn(1, 30, 2)\n",
    "\n",
    "# Export the wrapped model to ONNX format\n",
    "torch.onnx.export(\n",
    "    model,                   # Wrapped model to export\n",
    "    dummy_input,                     # Model input\n",
    "    \"./model/model_cvm.onnx\",              # Output file name\n",
    "    export_params=True,              # Store the trained parameter weights inside the model file\n",
    "    opset_version=13,                # Set the ONNX opset version (adjust as needed)\n",
    "    do_constant_folding=True,        # Whether to execute constant folding for optimization\n",
    "    input_names=['input'],           # The model's input names\n",
    "    output_names=['output'],         # The model's output names\n",
    "    dynamic_axes={\n",
    "        'input': {0: 'batch_size'},  # Enable dynamic axes for input\n",
    "        'output': {0: 'batch_size'}  # Enable dynamic axes for output\n",
    "    }\n",
    ")\n"
   ]
  },
  {
   "cell_type": "code",
   "execution_count": 11,
   "metadata": {},
   "outputs": [
    {
     "data": {
      "text/plain": [
       "torch.Size([1, 40, 2])"
      ]
     },
     "execution_count": 11,
     "metadata": {},
     "output_type": "execute_result"
    }
   ],
   "source": [
    "model(dummy_input).shape"
   ]
  }
 ],
 "metadata": {
  "kernelspec": {
   "display_name": "pytorch",
   "language": "python",
   "name": "python3"
  },
  "language_info": {
   "codemirror_mode": {
    "name": "ipython",
    "version": 3
   },
   "file_extension": ".py",
   "mimetype": "text/x-python",
   "name": "python",
   "nbconvert_exporter": "python",
   "pygments_lexer": "ipython3",
   "version": "3.11.5"
  }
 },
 "nbformat": 4,
 "nbformat_minor": 2
}
